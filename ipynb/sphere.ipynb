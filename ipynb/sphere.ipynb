{
 "cells": [
  {
   "cell_type": "markdown",
   "id": "c988d5bb",
   "metadata": {},
   "source": [
    "# Sphere center detection for extrinsic calibration\n",
    "\n",
    "Suppose we capture a sphere (i.e., a ball on a *calibration wand*) by multiple cameras, and detect the sphere center in each image as corresponding points for extrinsic calibration.  Since perspective projection of a sphere is an ellipse on the image plane, we need to find the projection of the sphere center from an ellipse.\n",
    "\n",
    "We here assume that the ball detection has been done somehow, by color-based segmentation for example.  That is, our input is a binary image such that only the ball area (i.e., ellipse) is in white as follows."
   ]
  },
  {
   "cell_type": "code",
   "execution_count": 1,
   "id": "32f1050a",
   "metadata": {
    "scrolled": true
   },
   "outputs": [
    {
     "data": {
      "image/png": "[encoded data removed]",
      "text/plain": [
       "<Figure size 432x288 with 1 Axes>"
      ]
     },
     "metadata": {
      "needs_background": "light"
     },
     "output_type": "display_data"
    },
    {
     "name": "stdout",
     "output_type": "stream",
     "text": [
      "Sphere center in 3D (GT): [-20  10 100]\n",
      "Sphere center in 2D (GT): [120. 340.   1.]\n"
     ]
    }
   ],
   "source": [
    "%matplotlib inline\n",
    "import sys, os, cv2\n",
    "import numpy as np\n",
    "import matplotlib.pyplot as plt\n",
    "\n",
    "module_path = os.path.abspath(os.path.join('..'))\n",
    "if module_path not in sys.path:\n",
    "    sys.path.append(module_path)\n",
    "\n",
    "import pycalib\n",
    "\n",
    "# dummy data\n",
    "W = 640\n",
    "H = 480\n",
    "fx = 1000\n",
    "fy = fx\n",
    "u0 = W // 2\n",
    "v0 = H // 2\n",
    "K = np.array( [[ fx, 0, u0 ], [0, fy, v0], [0, 0, 1]])\n",
    "RADIUS = 10\n",
    "\n",
    "# GT sphere center in 3D\n",
    "C_gt = np.array([-20, 10, 100])\n",
    "\n",
    "# GT sphere center in 2D\n",
    "c_gt = K @ C_gt.reshape((3,1))\n",
    "c_gt = (c_gt / c_gt[2]).flatten()\n",
    "\n",
    "# Input image\n",
    "img = pycalib.render_sphere(C_gt, RADIUS, K, W, H)\n",
    "\n",
    "plt.figure()\n",
    "plt.imshow(img, cmap='gray')\n",
    "plt.title('Input image')\n",
    "plt.show()\n",
    "\n",
    "print(f'Sphere center in 3D (GT): {C_gt}')\n",
    "print(f'Sphere center in 2D (GT): {c_gt}')"
   ]
  },
  {
   "cell_type": "markdown",
   "id": "a70ed0ea",
   "metadata": {},
   "source": [
    "First, we need to find an ellipse from this image."
   ]
  },
  {
   "cell_type": "code",
   "execution_count": 2,
   "id": "000e8eca",
   "metadata": {
    "scrolled": true
   },
   "outputs": [
    {
     "data": {
      "image/png": "[encoded data removed]",
      "text/plain": [
       "<Figure size 432x288 with 1 Axes>"
      ]
     },
     "metadata": {
      "needs_background": "light"
     },
     "output_type": "display_data"
    },
    {
     "name": "stdout",
     "output_type": "stream",
     "text": [
      "Ellipse center in 2D: (117.99397277832031, 341.0012512207031)\n"
     ]
    }
   ],
   "source": [
    "contours, _ = cv2.findContours(img, cv2.RETR_TREE, cv2.CHAIN_APPROX_SIMPLE)\n",
    "ellipse = cv2.fitEllipse(contours[0])\n",
    "\n",
    "buf = cv2.cvtColor(img, cv2.COLOR_GRAY2BGR)\n",
    "buf = cv2.ellipse(buf, ellipse, (255,0,0), 4)\n",
    "plt.figure()\n",
    "plt.imshow(buf)\n",
    "plt.scatter(c_gt[0], c_gt[1], marker='x', label='Sphere center (GT)')\n",
    "plt.scatter(ellipse[0][0], ellipse[0][1], marker='.', label='Ellipse center')\n",
    "plt.legend()\n",
    "plt.title('Ellipse fitting')\n",
    "plt.show()\n",
    "\n",
    "print(f'Ellipse center in 2D: {ellipse[0]}')"
   ]
  },
  {
   "cell_type": "markdown",
   "id": "bb31f10d",
   "metadata": {},
   "source": [
    "We can compute the sphere center by `pycalib.calc_sphere_center_from_ellipse()`."
   ]
  },
  {
   "cell_type": "code",
   "execution_count": 3,
   "id": "8209cc19",
   "metadata": {},
   "outputs": [
    {
     "name": "stdout",
     "output_type": "stream",
     "text": [
      "Sphere center in 3D (GT): [-20  10 100]\n",
      "Sphere center in 2D (GT): [120. 340.   1.]\n",
      "Ellipse center in 2D    : [117.99397278 341.00125122] (err=2.24px)\n",
      "Sphere center in 2D     : [120.03111898 339.98269589] (err=0.04px)\n"
     ]
    }
   ],
   "source": [
    "c = pycalib.calc_sphere_center_from_ellipse(contours[0], K)\n",
    "\n",
    "print(f'Sphere center in 3D (GT): {C_gt}')\n",
    "print(f'Sphere center in 2D (GT): {c_gt}')\n",
    "print(f'Ellipse center in 2D    : {np.array(ellipse[0])} (err={np.linalg.norm(c_gt[:2] - ellipse[0]):.02f}px)')\n",
    "print(f'Sphere center in 2D     : {c} (err={np.linalg.norm(c_gt[:2] - c[:2]):.02f}px)')\n",
    "\n",
    "assert np.allclose(c[:2], c_gt[:2], atol=1.0), \"center detection should be sub-pix accuracy\""
   ]
  },
  {
   "cell_type": "markdown",
   "id": "5cfc08b3",
   "metadata": {},
   "source": [
    "## Notes\n",
    "\n",
    "* `pycalib` has another function named `fit_sphere_center_3d_to_ellipse()` that estimates the 3D center given the original radius of the sphere.  This is implemented by a numerical optimization and runs much slower (50x) than `calc_sphere_center_from_ellipse()`.\n",
    "* The accuracy of `calc_sphere_center_from_ellipse()` totally depends on that of the ellipse fitting.\n",
    "  * The image should be undistorted beforehand.\n",
    "  * Orientation: Internally the function assumes that the major axis is directed to the image center $(u_0, v_0)$, while `cv2.fitEllipse()` does not enforce such constraint.  It will be better if the fitting can enforce the ellipse to be orieted to the image center.\n",
    "  * Occlusion, partial ellipse image: Fitting an ellipse to a partial ellipse image can be a difficult task.  You may want to discard images with partical ellipses, or fill small notches due to the wand.\n",
    "* The above point also suggests that it is not a good idea to optimize the intrinsic parameters in the bundle adjustment using corresponding points given by sphere centers.  If the intrinsic parameter changes, the sphere center also changes accordingly."
   ]
  }
 ],
 "metadata": {
  "kernelspec": {
   "display_name": "Python 3 (ipykernel)",
   "language": "python",
   "name": "python3"
  },
  "language_info": {
   "codemirror_mode": {
    "name": "ipython",
    "version": 3
   },
   "file_extension": ".py",
   "mimetype": "text/x-python",
   "name": "python",
   "nbconvert_exporter": "python",
   "pygments_lexer": "ipython3",
   "version": "3.10.12"
  }
 },
 "nbformat": 4,
 "nbformat_minor": 5
}
