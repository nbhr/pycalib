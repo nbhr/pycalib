{
 "cells": [
  {
   "cell_type": "markdown",
   "id": "c9f8cb29",
   "metadata": {},
   "source": [
    "# AruCo marker video for multi-cam synchnonization\n",
    "\n",
    "This is a simplified version of [GoPro Precision Date and Time (Local)](https://gopro.github.io/labs/control/precisiontime/).  Instead of displaying a QR code representing the current time in microseconds, the video in this example shows an AruCo marker at each frame.\n"
   ]
  },
  {
   "cell_type": "code",
   "execution_count": 1,
   "id": "fa6368c4",
   "metadata": {},
   "outputs": [],
   "source": [
    "import sys, os, cv2\n",
    "import numpy as np\n",
    "import matplotlib.pyplot as plt\n",
    "from tqdm.auto import tqdm\n",
    "\n",
    "class AruCoMaker:\n",
    "    def __init__(self, aruco_dict, dict_size, square_length):\n",
    "        self.aruco_dict = aruco_dict\n",
    "        self.dict_size = dict_size\n",
    "        self.square_length = square_length\n",
    "    \n",
    "    def __getitem__(self, idx):\n",
    "        idx %= self.dict_size\n",
    "        return cv2.aruco.generateImageMarker(self.aruco_dict, idx, self.square_length)\n",
    "    \n",
    "class ChAruCoDiamondMaker:\n",
    "    def __init__(self, aruco_dict, dict_size, square_length, marker_length):\n",
    "        self.aruco_dict = aruco_dict\n",
    "        self.dict_size = dict_size\n",
    "        self.square_length = square_length\n",
    "        self.marker_length = marker_length\n",
    "    \n",
    "    def __getitem__(self, idx):\n",
    "        diamond_marker_ids = np.array([0, 1, 2, 3], dtype=int)\n",
    "        diamond_marker_ids += idx\n",
    "        diamond_marker_ids %= self.dict_size\n",
    "        board = cv2.aruco.CharucoBoard((3, 3), self.square_length, self.marker_length, self.aruco_dict, diamond_marker_ids)\n",
    "        return board.generateImage((self.square_length, self.square_length))\n",
    "\n",
    "def padto(image, width, height):\n",
    "    ih, iw = image.shape[:2]\n",
    "    buf = np.ones((height, width, 3), dtype=np.uint8) * 255\n",
    "    dx = (width-iw)//2\n",
    "    dy = (height-ih)//2\n",
    "    buf[dy:dy+ih,dx:dx+iw,:] = image[:,:,None]\n",
    "    return buf\n"
   ]
  },
  {
   "cell_type": "code",
   "execution_count": 11,
   "id": "07bae7e3",
   "metadata": {
    "scrolled": true
   },
   "outputs": [
    {
     "data": {
      "application/vnd.jupyter.widget-view+json": {
       "model_id": "6c43c89440194e37892705282d6b0057",
       "version_major": 2,
       "version_minor": 0
      },
      "text/plain": [
       "output-aruco@15Hz:   0%|          | 0/450 [00:00<?, ?it/s]"
      ]
     },
     "metadata": {},
     "output_type": "display_data"
    },
    {
     "name": "stdout",
     "output_type": "stream",
     "text": [
      "x265 [info]: HEVC encoder version 3.5+1-f0c1022b6\n",
      "x265 [info]: build info [Linux][GCC 8.3.0][64 bit] 8bit+10bit+12bit\n",
      "x265 [info]: using cpu capabilities: MMX2 SSE2Fast LZCNT SSSE3 SSE4.2 AVX FMA3 BMI2 AVX2\n",
      "x265 [info]: Main profile, Level-4 (Main tier)\n",
      "x265 [info]: Thread pool created using 20 threads\n",
      "x265 [info]: Slices                              : 1\n",
      "x265 [info]: frame threads / pool features       : 4 / wpp(17 rows)\n",
      "x265 [info]: Coding QT: max CU size, min CU size : 64 / 8\n",
      "x265 [info]: Residual QT: max TU size, max depth : 32 / 1 inter / 1 intra\n",
      "x265 [info]: ME / range / subpel / merge         : hex / 57 / 2 / 3\n",
      "x265 [info]: Keyframe min / max / scenecut / bias  : 15 / 250 / 40 / 5.00 \n",
      "x265 [info]: Lookahead / bframes / badapt        : 20 / 4 / 2\n",
      "x265 [info]: b-pyramid / weightp / weightb       : 1 / 1 / 0\n",
      "x265 [info]: References / ref-limit  cu / depth  : 3 / off / on\n",
      "x265 [info]: AQ: mode / str / qg-size / cu-tree  : 2 / 1.0 / 32 / 1\n",
      "x265 [info]: Rate Control / qCompress            : CRF-22.0 / 0.60\n",
      "x265 [info]: tools: rd=3 psy-rd=2.00 early-skip rskip mode=1 signhide tmvp\n",
      "x265 [info]: tools: b-intra strong-intra-smoothing lslices=6 deblock sao\n",
      "x265 [info]: frame I:      2, Avg QP:21.80  kb/s: 1360.14 \n",
      "x265 [info]: frame P:    442, Avg QP:25.15  kb/s: 131.07  \n",
      "x265 [info]: frame B:      6, Avg QP:27.69  kb/s: 79.96   \n",
      "x265 [info]: Weighted P-Frames: Y:0.0% UV:0.0%\n",
      "x265 [info]: consecutive B-frames: 98.6% 1.4% 0.0% 0.0% 0.0% \n",
      "\n",
      "encoded 450 frames in 7.12s (63.16 fps), 135.86 kb/s, Avg QP:25.17\n"
     ]
    },
    {
     "data": {
      "application/vnd.jupyter.widget-view+json": {
       "model_id": "b2bdd7eb93224374a913bcbd54529e91",
       "version_major": 2,
       "version_minor": 0
      },
      "text/plain": [
       "output-diamond@15Hz:   0%|          | 0/450 [00:00<?, ?it/s]"
      ]
     },
     "metadata": {},
     "output_type": "display_data"
    },
    {
     "name": "stdout",
     "output_type": "stream",
     "text": [
      "x265 [info]: HEVC encoder version 3.5+1-f0c1022b6\n",
      "x265 [info]: build info [Linux][GCC 8.3.0][64 bit] 8bit+10bit+12bit\n",
      "x265 [info]: using cpu capabilities: MMX2 SSE2Fast LZCNT SSSE3 SSE4.2 AVX FMA3 BMI2 AVX2\n",
      "x265 [info]: Main profile, Level-4 (Main tier)\n",
      "x265 [info]: Thread pool created using 20 threads\n",
      "x265 [info]: Slices                              : 1\n",
      "x265 [info]: frame threads / pool features       : 4 / wpp(17 rows)\n",
      "x265 [info]: Coding QT: max CU size, min CU size : 64 / 8\n",
      "x265 [info]: Residual QT: max TU size, max depth : 32 / 1 inter / 1 intra\n",
      "x265 [info]: ME / range / subpel / merge         : hex / 57 / 2 / 3\n",
      "x265 [info]: Keyframe min / max / scenecut / bias  : 15 / 250 / 40 / 5.00 \n",
      "x265 [info]: Lookahead / bframes / badapt        : 20 / 4 / 2\n",
      "x265 [info]: b-pyramid / weightp / weightb       : 1 / 1 / 0\n",
      "x265 [info]: References / ref-limit  cu / depth  : 3 / off / on\n",
      "x265 [info]: AQ: mode / str / qg-size / cu-tree  : 2 / 1.0 / 32 / 1\n",
      "x265 [info]: Rate Control / qCompress            : CRF-22.0 / 0.60\n",
      "x265 [info]: tools: rd=3 psy-rd=2.00 early-skip rskip mode=1 signhide tmvp\n",
      "x265 [info]: tools: b-intra strong-intra-smoothing lslices=6 deblock sao\n",
      "x265 [info]: frame I:      2, Avg QP:20.86  kb/s: 1633.14 \n",
      "x265 [info]: frame P:     98, Avg QP:23.68  kb/s: 258.08  \n",
      "x265 [info]: frame B:    350, Avg QP:27.50  kb/s: 110.65  \n",
      "x265 [info]: Weighted P-Frames: Y:0.0% UV:0.0%\n",
      "x265 [info]: consecutive B-frames: 3.0% 4.0% 5.0% 16.0% 72.0% \n",
      "\n",
      "encoded 450 frames in 5.24s (85.84 fps), 149.52 kb/s, Avg QP:26.64\n"
     ]
    },
    {
     "data": {
      "application/vnd.jupyter.widget-view+json": {
       "model_id": "f0e9880bdcb54b119225fb97527e9286",
       "version_major": 2,
       "version_minor": 0
      },
      "text/plain": [
       "output-aruco@30Hz:   0%|          | 0/900 [00:00<?, ?it/s]"
      ]
     },
     "metadata": {},
     "output_type": "display_data"
    },
    {
     "name": "stdout",
     "output_type": "stream",
     "text": [
      "x265 [info]: HEVC encoder version 3.5+1-f0c1022b6\n",
      "x265 [info]: build info [Linux][GCC 8.3.0][64 bit] 8bit+10bit+12bit\n",
      "x265 [info]: using cpu capabilities: MMX2 SSE2Fast LZCNT SSSE3 SSE4.2 AVX FMA3 BMI2 AVX2\n",
      "x265 [info]: Main profile, Level-4 (Main tier)\n",
      "x265 [info]: Thread pool created using 20 threads\n",
      "x265 [info]: Slices                              : 1\n",
      "x265 [info]: frame threads / pool features       : 4 / wpp(17 rows)\n",
      "x265 [info]: Coding QT: max CU size, min CU size : 64 / 8\n",
      "x265 [info]: Residual QT: max TU size, max depth : 32 / 1 inter / 1 intra\n",
      "x265 [info]: ME / range / subpel / merge         : hex / 57 / 2 / 3\n",
      "x265 [info]: Keyframe min / max / scenecut / bias  : 25 / 250 / 40 / 5.00 \n",
      "x265 [info]: Lookahead / bframes / badapt        : 20 / 4 / 2\n",
      "x265 [info]: b-pyramid / weightp / weightb       : 1 / 1 / 0\n",
      "x265 [info]: References / ref-limit  cu / depth  : 3 / off / on\n",
      "x265 [info]: AQ: mode / str / qg-size / cu-tree  : 2 / 1.0 / 32 / 1\n",
      "x265 [info]: Rate Control / qCompress            : CRF-22.0 / 0.60\n",
      "x265 [info]: tools: rd=3 psy-rd=2.00 early-skip rskip mode=1 signhide tmvp\n",
      "x265 [info]: tools: b-intra strong-intra-smoothing lslices=6 deblock sao\n",
      "x265 [info]: frame I:      4, Avg QP:23.38  kb/s: 2528.58 \n",
      "x265 [info]: frame P:    880, Avg QP:27.29  kb/s: 228.24  \n",
      "x265 [info]: frame B:     16, Avg QP:29.75  kb/s: 146.86  \n",
      "x265 [info]: Weighted P-Frames: Y:0.0% UV:0.0%\n",
      "x265 [info]: consecutive B-frames: 98.2% 1.8% 0.0% 0.0% 0.0% \n",
      "\n",
      "encoded 900 frames in 16.08s (55.96 fps), 237.01 kb/s, Avg QP:27.32\n"
     ]
    },
    {
     "data": {
      "application/vnd.jupyter.widget-view+json": {
       "model_id": "14066120f53643f7a3e45e0edb8409ef",
       "version_major": 2,
       "version_minor": 0
      },
      "text/plain": [
       "output-diamond@30Hz:   0%|          | 0/900 [00:00<?, ?it/s]"
      ]
     },
     "metadata": {},
     "output_type": "display_data"
    },
    {
     "name": "stdout",
     "output_type": "stream",
     "text": [
      "x265 [info]: HEVC encoder version 3.5+1-f0c1022b6\n",
      "x265 [info]: build info [Linux][GCC 8.3.0][64 bit] 8bit+10bit+12bit\n",
      "x265 [info]: using cpu capabilities: MMX2 SSE2Fast LZCNT SSSE3 SSE4.2 AVX FMA3 BMI2 AVX2\n",
      "x265 [info]: Main profile, Level-4 (Main tier)\n",
      "x265 [info]: Thread pool created using 20 threads\n",
      "x265 [info]: Slices                              : 1\n",
      "x265 [info]: frame threads / pool features       : 4 / wpp(17 rows)\n",
      "x265 [info]: Coding QT: max CU size, min CU size : 64 / 8\n",
      "x265 [info]: Residual QT: max TU size, max depth : 32 / 1 inter / 1 intra\n",
      "x265 [info]: ME / range / subpel / merge         : hex / 57 / 2 / 3\n",
      "x265 [info]: Keyframe min / max / scenecut / bias  : 25 / 250 / 40 / 5.00 \n",
      "x265 [info]: Lookahead / bframes / badapt        : 20 / 4 / 2\n",
      "x265 [info]: b-pyramid / weightp / weightb       : 1 / 1 / 0\n",
      "x265 [info]: References / ref-limit  cu / depth  : 3 / off / on\n",
      "x265 [info]: AQ: mode / str / qg-size / cu-tree  : 2 / 1.0 / 32 / 1\n",
      "x265 [info]: Rate Control / qCompress            : CRF-22.0 / 0.60\n",
      "x265 [info]: tools: rd=3 psy-rd=2.00 early-skip rskip mode=1 signhide tmvp\n",
      "x265 [info]: tools: b-intra strong-intra-smoothing lslices=6 deblock sao\n",
      "x265 [info]: frame I:      4, Avg QP:22.63  kb/s: 2896.08 \n",
      "x265 [info]: frame P:    197, Avg QP:26.04  kb/s: 435.90  \n",
      "x265 [info]: frame B:    699, Avg QP:29.58  kb/s: 201.97  \n",
      "x265 [info]: Weighted P-Frames: Y:0.0% UV:0.0%\n",
      "x265 [info]: consecutive B-frames: 2.0% 4.5% 7.0% 16.9% 69.7% \n",
      "\n",
      "encoded 900 frames in 9.53s (94.42 fps), 265.15 kb/s, Avg QP:28.77\n"
     ]
    }
   ],
   "source": [
    "from IPython.display import Video\n",
    "\n",
    "duration = 30   # 30 sec\n",
    "video_width = 1920\n",
    "video_height = 1080\n",
    "\n",
    "aruco_dict = cv2.aruco.getPredefinedDictionary(cv2.aruco.DICT_6X6_250)\n",
    "aruco_dict_size = 250\n",
    "\n",
    "video_fps = [15, 30]\n",
    "output_base = [\"output-aruco\", \"output-diamond\"]\n",
    "maker = [AruCoMaker(aruco_dict, aruco_dict_size, 800),\n",
    "         ChAruCoDiamondMaker(aruco_dict, aruco_dict_size, 750, 450)]\n",
    "\n",
    "# opencv-python by pip does not suppert 'h264'.\n",
    "codec = cv2.VideoWriter_fourcc(*'mp4v')\n",
    "\n",
    "\n",
    "for fps in video_fps:\n",
    "    for ba, ma in zip(output_base, maker):\n",
    "        video = cv2.VideoWriter(ba + '.mp4', codec, fps, (video_width, video_height))\n",
    "        for i in tqdm(range(duration*fps), desc=f'{ba}@{fps}Hz'):\n",
    "            i = i % aruco_dict_size\n",
    "            buf = padto(ma[i], video_width, video_height)\n",
    "            cv2.putText(buf, f'DICT_6X6_250 #{i} @ {fps}Hz', (100, video_height-50), cv2.FONT_HERSHEY_PLAIN, 4, (0, 0, 0), 5, cv2.LINE_AA)\n",
    "            video.write(buf)\n",
    "        video.release()\n",
    "\n",
    "        # We can then use ffmpeg to encode MP4V to H264. This makes the filesize smaller in general, and also allows embedding the video in the web browser.\n",
    "        #!ffmpeg -loglevel quiet -i \"{ba}.mp4\" -c:v libx265 -crf 22 -tag:v hvc1 -y \"{ba}-{fps}hz.mp4\"\n",
    "        #Video('{ba}-{fps}hz.mp4', embed=True)\n"
   ]
  }
 ],
 "metadata": {
  "kernelspec": {
   "display_name": "Python 3 (ipykernel)",
   "language": "python",
   "name": "python3"
  },
  "language_info": {
   "codemirror_mode": {
    "name": "ipython",
    "version": 3
   },
   "file_extension": ".py",
   "mimetype": "text/x-python",
   "name": "python",
   "nbconvert_exporter": "python",
   "pygments_lexer": "ipython3",
   "version": "3.10.12"
  }
 },
 "nbformat": 4,
 "nbformat_minor": 5
}
