{
 "cells": [
  {
   "cell_type": "markdown",
   "id": "531aa2f3",
   "metadata": {},
   "source": [
    "# Robust Brute-Force Multi-view Multi-point Triangulation\n",
    "\n",
    "## Goal\n",
    "\n",
    "Suppose $N_c$ calibrated cameras observe moving $N_p$ 3D points $P_i \\; (i=1,\\dots,N_p)$ over $N_f$ frames.  The points are not always visible from the cameras, and the observations are noisy.  That is, we assume\n",
    "\n",
    "- **occlusion**: the cameras are randomly occluded at each frame for each 3D point,\n",
    "- **observation noise**: the 2D projections of $P_i$ to each camera is affected by Gaussian noise $\\mathcal{N}(0, \\sigma)$, and\n",
    "- **outliers**: some of 2D projections are totally unrelated to the ground-truth.\n",
    "\n",
    "The goal of this example is to triangulate the 3D points from such noisy 2D observations based on consensus between views.  A possible scenario is\n",
    "\n",
    "1. Capture some targets with calibrated cameras,\n",
    "   - For static multi-view cameras, see [example_gopro_step3_ba.ipynb](./example_gopro_step3_ba.ipynb) for example.\n",
    "   - For dynamic / moving cameras, do a visual SLAM to identify the camera poses.\n",
    "2. Detect keypoints on the targets somehow, and\n",
    "   - The detection can be noisy ... it cannot detect the target or it can return totally wrong results (outliers) for some frames.\n",
    "3. Use this notebook to reconstruct the 3D structure of the targets.\n",
    "\n",
    "## Note\n",
    "\n",
    "- The function `pycalib.robust.triangulate_consensus()` used in this notebook does *brute-force*, not RANSAC.\n",
    "- This notebooks uses a synthetic dataset.  To use your own data, prepare `pandas.DataFrame` of the same format. For example, you can prepare a CSV file and load it by `pd.read_csv(...).dropna()`.\n",
    "  - The input CSV must have `frame`, `label`, `camera`, `x`, and `y` columns or equivalent.\n",
    "\n",
    "## Libraries"
   ]
  },
  {
   "cell_type": "code",
   "execution_count": 1,
   "id": "f6197a71",
   "metadata": {},
   "outputs": [],
   "source": [
    "import sys, os, cv2\n",
    "import numpy as np\n",
    "import pandas as pd\n",
    "\n",
    "module_path = os.path.abspath(os.path.join('..'))\n",
    "if module_path not in sys.path:\n",
    "    sys.path.insert(0, module_path)\n",
    "\n",
    "import pycalib\n"
   ]
  },
  {
   "cell_type": "markdown",
   "id": "0a0da1cb",
   "metadata": {},
   "source": [
    "## Synthetic data\n",
    "\n",
    "This cell generates a ground-truth synthetic dataset as a `pd.DataFrame` of the form\n",
    "\n",
    "```:txt\n",
    "               x            y  camera  frame label\n",
    "0    2724.499909  1795.906886       0      0     A\n",
    "1    2739.246765  1828.197799       0      0     B\n",
    "2    2737.870194  1809.752993       0      0     C\n",
    "3    2714.909853  1730.028589       0      1     A\n",
    "4    2486.017394  1802.378535       0      1     B\n",
    "..           ...          ...     ...    ...   ...\n",
    "445  2860.263791  2604.285873      14      8     B\n",
    "446  2748.469759  2547.504431      14      8     C\n",
    "447  2727.006665  2548.685086      14      9     A\n",
    "448  2520.319586  2580.829330      14      9     B\n",
    "449  2847.109580  2636.002221      14      9     C\n",
    "```\n",
    "\n",
    "where\n",
    "\n",
    "- `x`, `y`: 2D position in the image,\n",
    "- `camera`: Camera ID (int, $[0:N_c-1]$),\n",
    "- `frame` : Frame ID (int), and\n",
    "- `label`: Label of the point (arbitrary strings).\n",
    "\n",
    "Each set of the 2D points sharing a same pair of `frame` and `label` are projections of a single 3D point.  The column names can be changed to any strings, except for some special keywords used inside `pycalib.robust`. See `primary_key`, `key_cid`, `key_x`, and `key_y` options of `pycalib.robust.triangulate_consensus()`.\n"
   ]
  },
  {
   "cell_type": "code",
   "execution_count": 10,
   "id": "81f26bd0",
   "metadata": {},
   "outputs": [
    {
     "name": "stdout",
     "output_type": "stream",
     "text": [
      "               x            y  camera  frame label\n",
      "0    2772.516536  1787.419612       0      0     A\n",
      "1    2441.345304  1970.267781       0      0     B\n",
      "2    2598.919581  1878.666770       0      0     C\n",
      "3    2790.010323  1919.305741       0      1     A\n",
      "4    2432.601207  1791.026260       0      1     B\n",
      "..           ...          ...     ...    ...   ...\n",
      "445  2637.268239  2498.420926      14      8     B\n",
      "446  2822.201354  2690.787005      14      8     C\n",
      "447  2402.089874  2446.498896      14      9     A\n",
      "448  2796.040765  2444.238744      14      9     B\n",
      "449  2899.838088  2547.079736      14      9     C\n",
      "\n",
      "[450 rows x 5 columns]\n"
     ]
    }
   ],
   "source": [
    "# calibration\n",
    "K, D, R, T, _ = pycalib.util.load_calib('../data/ba/output.json')\n",
    "P = []\n",
    "for k, r, t in zip(K, R, T):\n",
    "    p = k @ np.hstack([r, t])\n",
    "    P.append(p)\n",
    "P = np.array(P)\n",
    "Nc = len(P)\n",
    "\n",
    "# frames\n",
    "Nf = 10\n",
    "\n",
    "# keypoints\n",
    "Np = 3\n",
    "LABELS = [chr(ord('A') + i) for i in range(Np)]\n",
    "\n",
    "# 3D positions\n",
    "X_gt = ((np.random.random(Nf*Np*3)-0.5)*100).reshape((-1, 3))\n",
    "X_gt[:,2] = np.abs(X_gt[:,2])\n",
    "\n",
    "# 2D projections\n",
    "df_gt = []\n",
    "for c, (r, t, k, d) in enumerate(zip(R, T, K, D)):\n",
    "    x, _ = cv2.projectPoints(X_gt.reshape((-1, 1, 3)), cv2.Rodrigues(r)[0], t, k, d)\n",
    "    df_gt.append(x)\n",
    "df_gt = pd.DataFrame(np.array(df_gt).reshape((-1, 2)), columns=['x', 'y'])\n",
    "df_gt['camera'] = np.repeat(np.arange(Nc), Nf*Np)\n",
    "df_gt['frame'] = np.tile(np.repeat(np.arange(Nf), Np), Nc)\n",
    "df_gt['label'] = np.tile(LABELS, (Nf, Nc)).flatten()\n",
    "\n",
    "print(df_gt)\n",
    "\n",
    "assert df_gt['camera'].min() == 0\n",
    "assert df_gt['camera'].max() == Nc-1\n"
   ]
  },
  {
   "cell_type": "markdown",
   "id": "bb21e585",
   "metadata": {},
   "source": [
    "## Noisy data\n",
    "\n",
    "This cell generates three datasets by injecting noise into the ground-truth dataset.\n",
    "\n",
    "1. w/ occlusion,\n",
    "2. w/ occlusion and 2D Gaussian noise, and\n",
    "3. w/ occlusion, 2D Gaussian noise, and outliers.\n",
    "\n",
    "The format (column names) is identical to the ground-truth dataset."
   ]
  },
  {
   "cell_type": "code",
   "execution_count": 3,
   "id": "35a2b742",
   "metadata": {
    "scrolled": true
   },
   "outputs": [],
   "source": [
    "# Prepare noisy data\n",
    "occlusion_ratio = 0.5\n",
    "outlier_ratio = 0.1\n",
    "outlier_min = 100\n",
    "outlier_max = 1000\n",
    "noise_px = 5\n",
    "\n",
    "## drop some observations\n",
    "df_subset = df_gt.drop(np.random.choice(df_gt.index, int(len(df_gt)*occlusion_ratio), replace=False)).reset_index()\n",
    "df_occluded = df_subset.copy()\n",
    "\n",
    "## inject gaussian noise\n",
    "df_subset['x'] += np.random.normal(scale=noise_px, size=len(df_subset))\n",
    "df_subset['y'] += np.random.normal(scale=noise_px, size=len(df_subset))\n",
    "df_occluded_noisy = df_subset.copy()\n",
    "\n",
    "## inject outliers\n",
    "idx = np.random.choice(df_subset.index, int(len(df_subset)*outlier_ratio), replace=False)\n",
    "df_subset.loc[idx,'x'] += np.random.uniform(low=outlier_min, high=outlier_max, size=len(idx)) * np.random.choice([-1,1], size=len(idx))\n",
    "df_subset.loc[idx,'y'] += np.random.uniform(low=outlier_min, high=outlier_max, size=len(idx)) * np.random.choice([-1,1], size=len(idx))\n",
    "df_occluded_noisy_outlier = df_subset.copy()\n"
   ]
  },
  {
   "cell_type": "markdown",
   "id": "f53ff4fd",
   "metadata": {},
   "source": [
    "## Triangulation\n",
    "\n",
    "This cell verifies that `pycalib.robust.triangulate_consensus()` can return the ground-truth 3D points from the ground-truth 2D points.  The output is a pair of two `pd.DataFrame`s.  The first one is the result of the triangulation given as follows.\n",
    "\n",
    "- `frame`: frame ID,\n",
    "- `label`: label of the point,\n",
    "- `X`, `Y`, `Z`: 3D points with the highest consensus (== initial guess by binocular triangulation),\n",
    "- `reproj`: tuple of length $N_c$ representing the reprojection errors,\n",
    "- `outliers`: tuple of outlier camera IDs,\n",
    "- `inliers`: tuple of inlier camera IDs,\n",
    "- `n_outliers`: number of outliers,\n",
    "- `n_inliers`: number of inliers, and\n",
    "- `X_in`, `Y_in`, `Z_in`: 3D points triangulated w/ all inliers (== final output).\n",
    "\n",
    "```:txt\n",
    "    frame label          X          Y          Z   \n",
    "0       0     A  -15.04173  45.726018  47.712414  \\\n",
    "1       0     B -11.975937  31.341524  48.409684   \n",
    "2       0     C -42.903489   9.868657  33.510149   \n",
    "3       1     A  39.137465 -22.033629  36.751023   \n",
    "...\n",
    "                                               reproj outliers   \n",
    "0   [2.0114642751440117e-10, 1.237490539709991e-09...       ()  \\\n",
    "1   [2.5480223396404e-09, 4.211610054670847e-09, 5...       ()   \n",
    "2   [6.382931077027202e-10, 3.2222949335949804e-10...       ()   \n",
    "3   [9.037467216177659e-11, 3.0293490293876065e-09...       ()   \n",
    "...\n",
    "                                              inliers  n_outliers  n_inliers   \n",
    "0   (0, 1, 2, 3, 4, 5, 6, 7, 8, 9, 10, 11, 12, 13,...           0         15  \\\n",
    "1   (0, 1, 2, 3, 4, 5, 6, 7, 8, 9, 10, 11, 12, 13,...           0         15   \n",
    "2   (0, 1, 2, 3, 4, 5, 6, 7, 8, 9, 10, 11, 12, 13,...           0         15   \n",
    "3   (0, 1, 2, 3, 4, 5, 6, 7, 8, 9, 10, 11, 12, 13,...           0         15   \n",
    "...\n",
    "         X_in       Y_in       Z_in  \n",
    "0  -15.041730  45.726018  47.712414  \n",
    "1  -11.975937  31.341524  48.409684  \n",
    "2  -42.903489   9.868657  33.510149  \n",
    "3   39.137465 -22.033629  36.751023  \n",
    "```\n",
    "\n",
    "The second one is a copy of the input dataframe `df` with lens undistortion.  Notice that in case of `distorted=False`, this is identical to `df`.\n",
    "\n",
    "- options `primary_key`, `key_cid`, `key_x`, and `key_y` allow to change column names.\n",
    "- option `nproc` specifies the number of concurrent processes (default: num of CPUs).\n",
    "- option `reproj_th` specifies the max reprojection error in pixel to accept as an inlier.\n",
    "- option `show_pbar` toggles the progress bar.\n"
   ]
  },
  {
   "cell_type": "code",
   "execution_count": 4,
   "id": "c45025ce",
   "metadata": {},
   "outputs": [
    {
     "data": {
      "application/vnd.jupyter.widget-view+json": {
       "model_id": "3bb2d971c7fa4fcabc847c8244c50951",
       "version_major": 2,
       "version_minor": 0
      },
      "text/plain": [
       "  0%|          | 0/105 [00:00<?, ?it/s]"
      ]
     },
     "metadata": {},
     "output_type": "display_data"
    }
   ],
   "source": [
    "X, df_undistorted = pycalib.robust.triangulate_consensus(df_gt, P, distorted=True, camera_matrix=K, dist_coeffs=D)\n",
    "np.testing.assert_equal(X['n_outliers'].to_numpy(), 0, err_msg=\"no outliers\")\n",
    "np.testing.assert_allclose(X[['X','Y','Z']].to_numpy().astype(float), X_gt, err_msg=\"should return GT values\", rtol=1e-6)"
   ]
  },
  {
   "cell_type": "markdown",
   "id": "ee726e89",
   "metadata": {},
   "source": [
    "## Triangulation (w/ occlusion)\n",
    "\n",
    "This cell verifies that\n",
    "- occulsion does not introduce outliers, and\n",
    "- the triangulated 3D points are identical to the ground truth.\n"
   ]
  },
  {
   "cell_type": "code",
   "execution_count": 5,
   "id": "c447df61",
   "metadata": {},
   "outputs": [
    {
     "data": {
      "application/vnd.jupyter.widget-view+json": {
       "model_id": "0838feb88de042dc8ba9c0707b095d23",
       "version_major": 2,
       "version_minor": 0
      },
      "text/plain": [
       "  0%|          | 0/105 [00:00<?, ?it/s]"
      ]
     },
     "metadata": {},
     "output_type": "display_data"
    }
   ],
   "source": [
    "X, df_occluded_undistorted = pycalib.robust.triangulate_consensus(df_occluded, P, distorted=True, camera_matrix=K, dist_coeffs=D)\n",
    "np.testing.assert_equal(X['n_outliers'].to_numpy(), 0, err_msg=\"no outliers\")\n",
    "np.testing.assert_allclose(X[['X','Y','Z']].to_numpy().astype(float), X_gt, err_msg=\"should return GT values\", rtol=1e-6)"
   ]
  },
  {
   "cell_type": "markdown",
   "id": "4f2413dc",
   "metadata": {},
   "source": [
    "## Triangulation (w/ occlusion + Gaussian noise)\n",
    "\n",
    "This cell verifies that\n",
    "\n",
    "- noisy 2D input can reconstruct 3D points close enough to GT, and\n",
    "- triangulation using all the inliers (`X_in`, `Y_in`, `Z_in`) may improve the reconstruction comapared to the binocular reconstruction (`X`, `Y`, `Z`) with the highest consensus.\n",
    "  - the improvement can be very small ... `re_triangulate=False` can disable this step.\n"
   ]
  },
  {
   "cell_type": "code",
   "execution_count": 6,
   "id": "dceff298",
   "metadata": {},
   "outputs": [
    {
     "data": {
      "application/vnd.jupyter.widget-view+json": {
       "model_id": "7ee611705de4498f8c8d419146821c35",
       "version_major": 2,
       "version_minor": 0
      },
      "text/plain": [
       "  0%|          | 0/105 [00:00<?, ?it/s]"
      ]
     },
     "metadata": {},
     "output_type": "display_data"
    },
    {
     "name": "stdout",
     "output_type": "stream",
     "text": [
      "Mean 3D displacement error = 1.0933263213558138, mean |X| = 25.10845093559927, ratio=0.04354415667298987\n",
      "Mean 3D displacement error (w/ all inliers) = 0.8851353217124375, mean |X| = 25.10845093559927, ratio=0.03525248626379713\n"
     ]
    }
   ],
   "source": [
    "X, df_occluded_noisy_undistorted = pycalib.robust.triangulate_consensus(df_occluded_noisy, P, distorted=True, camera_matrix=K, dist_coeffs=D)\n",
    "#np.testing.assert_equal(X['n_outliers'].to_numpy(), 0)\n",
    "\n",
    "Y = X[['X','Y','Z']].to_numpy().astype(float)\n",
    "e = np.mean(np.linalg.norm(X_gt - Y, axis=1))\n",
    "l = np.mean(np.abs(X_gt))\n",
    "print(f'Mean 3D displacement error = {e}, mean |X| = {l}, ratio={e/l}')\n",
    "#np.testing.assert_allclose(X[['X','Y','Z']].to_numpy().astype(float), X_gt, rtol=1e-6)\n",
    "\n",
    "Y = X[['X_in','Y_in','Z_in']].to_numpy().astype(float)\n",
    "e = np.mean(np.linalg.norm(X_gt - Y, axis=1))\n",
    "l = np.mean(np.abs(X_gt))\n",
    "print(f'Mean 3D displacement error (w/ all inliers) = {e}, mean |X| = {l}, ratio={e/l}')\n"
   ]
  },
  {
   "cell_type": "markdown",
   "id": "804e004c",
   "metadata": {},
   "source": [
    "## Triangulation (w/ occlusion + Gaussian noise + outliers)\n",
    "\n",
    "This cell verifies that\n",
    "\n",
    "- noisy 2D input can reconstruct 3D points close enough to GT, and\n",
    "- triangulation using all the inliers (`X_in`, `Y_in`, `Z_in`) may improve the reconstruction comapared to the binocular reconstruction (`X`, `Y`, `Z`) with the highest consensus.\n",
    "  - the improvement can be very small ... `re_triangulate=False` can disable this step.\n"
   ]
  },
  {
   "cell_type": "code",
   "execution_count": 7,
   "id": "c52167a4",
   "metadata": {},
   "outputs": [
    {
     "data": {
      "application/vnd.jupyter.widget-view+json": {
       "model_id": "86f734099256452abb3d02ed3901368f",
       "version_major": 2,
       "version_minor": 0
      },
      "text/plain": [
       "  0%|          | 0/105 [00:00<?, ?it/s]"
      ]
     },
     "metadata": {},
     "output_type": "display_data"
    },
    {
     "name": "stdout",
     "output_type": "stream",
     "text": [
      "Mean 3D displacement error = 1.175635735943928, mean |X| = 25.10845093559927, ratio=0.04682231249388181\n",
      "Mean 3D displacement error (w/ all inliers) = 0.9319267337224175, mean |X| = 25.10845093559927, ratio=0.03711605849810165\n"
     ]
    }
   ],
   "source": [
    "X, df_occluded_noisy_outlier_undistorted = pycalib.robust.triangulate_consensus(df_occluded_noisy_outlier, P, distorted=True, camera_matrix=K, dist_coeffs=D)\n",
    "Y = X[['X','Y','Z']].to_numpy().astype(float)\n",
    "e = np.mean(np.linalg.norm(X_gt - Y, axis=1))\n",
    "l = np.mean(np.abs(X_gt))\n",
    "print(f'Mean 3D displacement error = {e}, mean |X| = {l}, ratio={e/l}')\n",
    "\n",
    "Y = X[['X_in','Y_in','Z_in']].to_numpy().astype(float)\n",
    "e = np.mean(np.linalg.norm(X_gt - Y, axis=1))\n",
    "l = np.mean(np.abs(X_gt))\n",
    "print(f'Mean 3D displacement error (w/ all inliers) = {e}, mean |X| = {l}, ratio={e/l}')\n"
   ]
  },
  {
   "cell_type": "markdown",
   "id": "ee2b2502",
   "metadata": {},
   "source": [
    "### False-positive / false-negative outliers\n",
    "\n",
    "`df_occluded_noisy_outlier` is synthesized by injecting outliers with large (`outlier_min` px) displacements from the ground-truth 2D positions.  This cell checks if these outliers are correctly identified by `triangulate_consensus`.\n",
    "\n",
    "- `FP` line: the camera is falsely labeled as outlier, due to the injected Gaussian noise.\n",
    "- `FN` line: the camera is not detected correctly as outlier ... this is a bug."
   ]
  },
  {
   "cell_type": "code",
   "execution_count": 8,
   "id": "5096bd04",
   "metadata": {},
   "outputs": [
    {
     "name": "stdout",
     "output_type": "stream",
     "text": [
      "TP: Frame 0, Label B, Camera 10, reproj=746.61px\n",
      "FP: Frame 0, Label C, Camera 7, reproj=10.70px\n",
      "TP: Frame 1, Label A, Camera 7, reproj=880.39px\n",
      "FP: Frame 1, Label B, Camera 7, reproj=13.10px\n",
      "TP: Frame 1, Label B, Camera 8, reproj=1406.81px\n",
      "FP: Frame 1, Label C, Camera 2, reproj=12.92px\n",
      "TP: Frame 1, Label C, Camera 10, reproj=1140.10px\n",
      "TP: Frame 2, Label B, Camera 6, reproj=1119.07px\n",
      "TP: Frame 2, Label B, Camera 11, reproj=1088.76px\n",
      "FP: Frame 2, Label C, Camera 4, reproj=13.20px\n",
      "TP: Frame 3, Label A, Camera 14, reproj=1253.99px\n",
      "FP: Frame 3, Label B, Camera 7, reproj=13.70px\n",
      "TP: Frame 3, Label B, Camera 2, reproj=897.40px\n",
      "TP: Frame 3, Label B, Camera 5, reproj=613.04px\n",
      "FP: Frame 3, Label C, Camera 10, reproj=11.57px\n",
      "TP: Frame 3, Label C, Camera 9, reproj=762.22px\n",
      "TP: Frame 3, Label C, Camera 12, reproj=776.71px\n",
      "FP: Frame 4, Label A, Camera 2, reproj=11.07px\n",
      "FP: Frame 4, Label A, Camera 8, reproj=16.88px\n",
      "FP: Frame 4, Label A, Camera 9, reproj=17.14px\n",
      "TP: Frame 4, Label B, Camera 12, reproj=1076.54px\n",
      "FP: Frame 4, Label C, Camera 5, reproj=19.15px\n",
      "FP: Frame 5, Label B, Camera 6, reproj=12.39px\n",
      "TP: Frame 5, Label B, Camera 3, reproj=911.31px\n",
      "FP: Frame 5, Label C, Camera 1, reproj=20.09px\n",
      "TP: Frame 5, Label C, Camera 11, reproj=1425.84px\n",
      "TP: Frame 6, Label A, Camera 6, reproj=460.00px\n",
      "FP: Frame 6, Label C, Camera 10, reproj=12.76px\n",
      "TP: Frame 6, Label C, Camera 12, reproj=418.31px\n",
      "FP: Frame 7, Label A, Camera 8, reproj=17.74px\n",
      "FP: Frame 7, Label B, Camera 5, reproj=20.57px\n",
      "FP: Frame 7, Label B, Camera 9, reproj=14.25px\n",
      "FP: Frame 7, Label B, Camera 10, reproj=18.65px\n",
      "FP: Frame 7, Label B, Camera 12, reproj=12.58px\n",
      "TP: Frame 7, Label B, Camera 7, reproj=327.36px\n",
      "TP: Frame 8, Label A, Camera 2, reproj=1440.88px\n",
      "FP: Frame 8, Label B, Camera 6, reproj=17.17px\n",
      "FP: Frame 8, Label C, Camera 2, reproj=10.87px\n",
      "TP: Frame 8, Label C, Camera 7, reproj=981.12px\n",
      "TP: Frame 9, Label A, Camera 4, reproj=1200.14px\n",
      "TP: Frame 9, Label A, Camera 6, reproj=1297.24px\n",
      "FP: Frame 9, Label B, Camera 1, reproj=18.67px\n",
      "FP: Frame 9, Label B, Camera 12, reproj=15.08px\n",
      "TP: Frame 9, Label B, Camera 13, reproj=530.16px\n",
      "FP: Frame 9, Label C, Camera 6, reproj=10.36px\n"
     ]
    }
   ],
   "source": [
    "# GT outliers = diff between df_occluded_noisy and df_occluded_noisy_outlier\n",
    "e = df_occluded_noisy[['x', 'y']] - df_occluded_noisy_outlier[['x','y']]\n",
    "outlier_gt = np.linalg.norm(e.to_numpy(), axis=1) > 0\n",
    "outlier_gt = df_occluded_noisy_outlier.loc[outlier_gt].sort_values(by=['frame', 'label'])\n",
    "\n",
    "# Estimated outliers\n",
    "outlier_est = X[['frame', 'label', 'outliers', 'reproj']]\n",
    "\n",
    "# Show differences between GT and estimated outliers\n",
    "df = pd.merge(outlier_gt, outlier_est, how='outer', on=['frame', 'label'], suffixes=['', '_est'])\n",
    "for g, d in df.groupby(by=['frame', 'label']):\n",
    "    gt_is_empty = d['camera'].isnull().all()\n",
    "    o_est = d['outliers'].tolist()[0]\n",
    "    reproj = d['reproj'].tolist()[0]\n",
    "    if gt_is_empty:\n",
    "        o_gt = []\n",
    "    else:\n",
    "        o_gt = d['camera'].astype(int).tolist()\n",
    "\n",
    "    for i in o_est:\n",
    "        if i not in o_gt:\n",
    "            print(f'FP: Frame {g[0]}, Label {g[1]}, Camera {i}, reproj={reproj[i]:.2f}px')\n",
    "    for i in o_gt:\n",
    "        if i in o_est:\n",
    "            print(f'TP: Frame {g[0]}, Label {g[1]}, Camera {i}, reproj={reproj[i]:.2f}px')\n",
    "        else:\n",
    "            print(f'FN: Frame {g[0]}, Label {g[1]}, Camera {i}, reproj={reproj[i]:.2f}px')\n"
   ]
  },
  {
   "cell_type": "markdown",
   "id": "9c806b93",
   "metadata": {},
   "source": [
    "## Exercises\n",
    "\n",
    "1. Implement RANSAC.  `triangulate_consensus()` triangulates 3D points using all possible pairs of the input cameras.\n",
    "1. Implement bundle adjustment == non-linear optimization of reprojection errors.  `triangulate_consensus()` triangulates 3D points by DLT."
   ]
  }
 ],
 "metadata": {
  "kernelspec": {
   "display_name": "Python 3",
   "language": "python",
   "name": "python3"
  },
  "language_info": {
   "codemirror_mode": {
    "name": "ipython",
    "version": 3
   },
   "file_extension": ".py",
   "mimetype": "text/x-python",
   "name": "python",
   "nbconvert_exporter": "python",
   "pygments_lexer": "ipython3",
   "version": "3.10.12"
  }
 },
 "nbformat": 4,
 "nbformat_minor": 5
}
