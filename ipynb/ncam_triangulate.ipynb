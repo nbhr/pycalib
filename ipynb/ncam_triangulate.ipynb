{
 "cells": [
  {
   "cell_type": "markdown",
   "id": "531aa2f3",
   "metadata": {},
   "source": [
    "# Multi-view Multi-point Triangulation\n",
    "\n",
    "## Goal\n",
    "\n",
    "Suppose $n$ calibrated cameras observe $m$ 3D points.  That is, for each of $m$ 3D points, we have its 2D projections in $n$ cameras.  The goal of this example is to triangulate the 3D points from such 2D projections.  We use two functions,`triangulate()` and `triangulate_Npts()`.  `triangulate()` does triangulation for a single point by the homogeneous DLT, while `triangulate_Npts()` does triangulation for multiple points at once by the inhomogeneous DLT.  The code below demonstrates that `triangulate_Npts()` runs much faster than `triangulate()`.\n",
    "\n",
    "\n",
    "### Notes\n",
    "\n",
    "* Difference in the running times come from for-loop vs. vectorization by numpy, not from the difference in the algorithm (homogeneous vs. inhomogeneous DLT).\n",
    "* Actually, `triangulate_Npts()` should call `cv::sfm::triangulatePoints()` of OpenCV directly if available (i.e., just as a wrapper function).  This is, however, not the case with the current `opencv-contrib-python` in pip (opencv 4.5.5).\n",
    "\n",
    "\n",
    "#### Notice\n",
    "* `pycalib.calib.trianglateN()` provides more flexible interface.\n",
    "\n",
    "## Libraries"
   ]
  },
  {
   "cell_type": "code",
   "execution_count": 1,
   "id": "f6197a71",
   "metadata": {},
   "outputs": [],
   "source": [
    "%matplotlib notebook\n",
    "import sys, os, cv2\n",
    "import numpy as np\n",
    "\n",
    "from glob import glob\n",
    "import matplotlib.pyplot as plt\n",
    "from mpl_toolkits.mplot3d import Axes3D\n",
    "\n",
    "module_path = os.path.abspath(os.path.join('..'))\n",
    "if module_path not in sys.path:\n",
    "    sys.path.append(module_path)\n",
    "\n",
    "from pycalib.plot import plotCamera\n",
    "from pycalib.ba import bundle_adjustment, encode_camera_param, decode_camera_param, make_mask\n",
    "from pycalib.calib import lookat, triangulate, triangulate_Npts"
   ]
  },
  {
   "cell_type": "markdown",
   "id": "0a0da1cb",
   "metadata": {},
   "source": [
    "## Synthetic data"
   ]
  },
  {
   "cell_type": "code",
   "execution_count": 2,
   "id": "35a2b742",
   "metadata": {
    "scrolled": true
   },
   "outputs": [
    {
     "name": "stdout",
     "output_type": "stream",
     "text": [
      "X_gt: (27, 3)\n",
      "R_gt: (5, 3, 3)\n",
      "t_gt: (5, 3, 1)\n",
      "P_gt: (5, 3, 4)\n",
      "rvec_gt: (5, 3, 1)\n",
      "x_gt: (5, 27, 2)\n"
     ]
    }
   ],
   "source": [
    "# 3D points\n",
    "# X_gt = (np.random.rand(16, 3) - 0.5)*5 # random points centered at [0, 0, 0]\n",
    "X_gt = np.array(np.meshgrid(np.linspace(-1, 1, 3), np.linspace(-1, 1, 3), np.linspace(-1, 1, 3))).reshape((3, -1)).T  # 3D grid points\n",
    "Np = X_gt.shape[0]\n",
    "print('X_gt:', X_gt.shape)\n",
    "\n",
    "# Camera intrinsics\n",
    "K = np.array([[600, 0, 320], [0, 600, 240], [0, 0, 1]]).astype(np.float64)  # VGA camera\n",
    "\n",
    "# Camera poses: cameras are at the vertices of a hexagon\n",
    "t = 2 * np.pi / 5 * np.arange(5)\n",
    "v_gt = np.vstack((10*np.cos(t), 10*np.sin(t), np.zeros(t.shape))).T\n",
    "Nc = v_gt.shape[0]\n",
    "R_gt = []\n",
    "t_gt = []\n",
    "P_gt = []\n",
    "rvec_gt = []\n",
    "for i in range(Nc):\n",
    "    t = v_gt[i,:]\n",
    "    R, t = lookat(t, np.zeros(3), np.array([0, 1, 0]))\n",
    "    R_gt.append(R)\n",
    "    t_gt.append(t)\n",
    "    P_gt.append(K @ np.hstack((R, t)))\n",
    "    rvec_gt.append(cv2.Rodrigues(R)[0])\n",
    "R_gt = np.array(R_gt)\n",
    "t_gt = np.array(t_gt)\n",
    "P_gt = np.array(P_gt)\n",
    "rvec_gt = np.array(rvec_gt)\n",
    "print('R_gt:', R_gt.shape)\n",
    "print('t_gt:', t_gt.shape)\n",
    "print('P_gt:', P_gt.shape)\n",
    "print('rvec_gt:', rvec_gt.shape)\n",
    "\n",
    "# 2D observations points\n",
    "x_gt = []\n",
    "for i in range(Nc):\n",
    "    xt = cv2.projectPoints(X_gt.reshape((-1, 1, 3)), rvec_gt[i], t_gt[i], K, None)[0].reshape((-1, 2))\n",
    "    x_gt.append(xt)\n",
    "x_gt = np.array(x_gt)\n",
    "print('x_gt:', x_gt.shape)\n",
    "\n",
    "# Verify triangulation\n",
    "Y = []\n",
    "for i in range(Np):\n",
    "    y = triangulate(x_gt[:,i,:].reshape((-1,2)), P_gt)\n",
    "    #print(y)\n",
    "    Y.append(y)\n",
    "Y = np.array(Y).T\n",
    "Y = Y[:3,:] / Y[3,:]\n",
    "assert np.allclose(0, X_gt - Y.T)\n",
    "\n",
    "# Verify z > 0 at each camera\n",
    "for i in range(Nc):\n",
    "    Xc = R_gt[i] @ X_gt.T + t_gt[i]\n",
    "    assert np.all(Xc[2, :] > 0)\n",
    "\n",
    "    \n",
    "# Inject gaussian noise to the inital guess\n",
    "R_est = R_gt.copy()\n",
    "t_est = t_gt.copy()\n",
    "K_est = np.array([K for c in range(Nc)])\n",
    "X_est = X_gt.copy()\n",
    "x_est = x_gt.copy()\n",
    "\n",
    "for i in range(Nc):\n",
    "    R_est[i] = cv2.Rodrigues( cv2.Rodrigues(R_est[i])[0] + np.random.normal(0, 0.01, (3,1)) )[0]\n",
    "    t_est[i] += np.random.normal(0, 0.01, (3,1))\n",
    "    K_est[i][0,0] = K_est[i][1,1] = K_est[i][0,0] + np.random.normal(0, K_est[i][0,0]/10)\n",
    "\n",
    "X_est += np.random.normal(0, 0.01, X_est.shape)\n",
    "x_est += np.random.normal(0, 0.1, x_est.shape)"
   ]
  },
  {
   "cell_type": "markdown",
   "id": "5aaa1614",
   "metadata": {},
   "source": [
    "## Triangulation cost by a single function call ($\\rightarrow$ fast)"
   ]
  },
  {
   "cell_type": "code",
   "execution_count": 3,
   "id": "4e332d45",
   "metadata": {
    "scrolled": true
   },
   "outputs": [
    {
     "name": "stdout",
     "output_type": "stream",
     "text": [
      "93.5 µs ± 1.07 µs per loop (mean ± std. dev. of 7 runs, 10000 loops each)\n"
     ]
    },
    {
     "data": {
      "text/plain": [
       "True"
      ]
     },
     "execution_count": 3,
     "metadata": {},
     "output_type": "execute_result"
    }
   ],
   "source": [
    "%timeit triangulate_Npts(x_gt, P_gt)\n",
    "\n",
    "# verify that the output is correct\n",
    "np.allclose(triangulate_Npts(x_gt, P_gt), X_gt)"
   ]
  },
  {
   "cell_type": "markdown",
   "id": "d9daccd4",
   "metadata": {},
   "source": [
    "## Triangulation cost by a for-loop ($\\rightarrow$ slow)"
   ]
  },
  {
   "cell_type": "code",
   "execution_count": 4,
   "id": "d3085150",
   "metadata": {
    "scrolled": true
   },
   "outputs": [
    {
     "name": "stdout",
     "output_type": "stream",
     "text": [
      "1.29 ms ± 71.4 µs per loop (mean ± std. dev. of 7 runs, 1000 loops each)\n"
     ]
    },
    {
     "data": {
      "text/plain": [
       "True"
      ]
     },
     "execution_count": 4,
     "metadata": {},
     "output_type": "execute_result"
    }
   ],
   "source": [
    "def triangulate_by_loop(x, P):\n",
    "    X = []\n",
    "    Np = x.shape[1]\n",
    "    for i in range(Np):\n",
    "        y = triangulate(x[:,i,:].reshape((-1,2)), P[:])\n",
    "        X.append(y)\n",
    "    X = np.array(X)\n",
    "    return X[:,:3]\n",
    "\n",
    "%timeit tmp = triangulate_by_loop(x_gt, P_gt)\n",
    "\n",
    "# verify that the output is correct\n",
    "np.allclose(triangulate_by_loop(x_gt, P_gt), X_gt)"
   ]
  },
  {
   "cell_type": "markdown",
   "id": "bea88384",
   "metadata": {},
   "source": [
    "## Exercises\n",
    "\n",
    "1. Use `@numba.jit` to optimize `triangulate()`.  It makes `triangulate_by_loop()` as fast as `triangulate_Npts()`.\n",
    "   * if your `numba` does not support `numpy.isclose()`, use the code from a PR (https://github.com/numba/numba/pull/7067).\n",
    "\n"
   ]
  }
 ],
 "metadata": {
  "kernelspec": {
   "display_name": "Python 3 (ipykernel)",
   "language": "python",
   "name": "python3"
  },
  "language_info": {
   "codemirror_mode": {
    "name": "ipython",
    "version": 3
   },
   "file_extension": ".py",
   "mimetype": "text/x-python",
   "name": "python",
   "nbconvert_exporter": "python",
   "pygments_lexer": "ipython3",
   "version": "3.10.12"
  }
 },
 "nbformat": 4,
 "nbformat_minor": 5
}
